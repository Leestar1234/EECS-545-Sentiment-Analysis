{
 "cells": [
  {
   "cell_type": "code",
   "execution_count": 1,
   "metadata": {},
   "outputs": [],
   "source": [
    "import pandas as pd\n"
   ]
  },
  {
   "cell_type": "code",
   "execution_count": 3,
   "metadata": {},
   "outputs": [],
   "source": [
    "train_data=pd.read_csv('two_class.csv')"
   ]
  },
  {
   "cell_type": "code",
   "execution_count": 6,
   "metadata": {},
   "outputs": [],
   "source": [
    "X_train = train_data[\"context\"]\n",
    "y_train = train_data[\"emotion\"]"
   ]
  },
  {
   "cell_type": "code",
   "execution_count": 10,
   "metadata": {},
   "outputs": [],
   "source": [
    "from sklearn.feature_extraction.text import CountVectorizer\n",
    "cv = CountVectorizer(token_pattern='\\[?\\w+\\]?')#Create the word bag data structure\n",
    "X_train=cv.fit_transform(X_train)"
   ]
  },
  {
   "cell_type": "code",
   "execution_count": 11,
   "metadata": {},
   "outputs": [
    {
     "data": {
      "text/plain": [
       "MultinomialNB()"
      ]
     },
     "execution_count": 11,
     "metadata": {},
     "output_type": "execute_result"
    }
   ],
   "source": [
    "from sklearn.naive_bayes import MultinomialNB\n",
    "\n",
    "clf = MultinomialNB()\n",
    "clf.fit(X_train, y_train)"
   ]
  },
  {
   "cell_type": "code",
   "execution_count": 12,
   "metadata": {},
   "outputs": [
    {
     "name": "stdout",
     "output_type": "stream",
     "text": [
      "Percent accuracy within each fold:\n",
      "\n",
      "[0.8516129  0.87096774 0.88387097 0.8516129  0.89439655]\n",
      "\n",
      "Mean accuracy:\n",
      "\n",
      "0.870492213570634\n"
     ]
    }
   ],
   "source": [
    "from sklearn.model_selection import cross_val_score\n",
    "scores = cross_val_score(clf, X_train, y_train, cv = 5, scoring=\"accuracy\")\n",
    "\n",
    "print(\"Percent accuracy within each fold:\\n\")\n",
    "print(scores)\n",
    "print(\"\\nMean accuracy:\\n\")\n",
    "print(scores.mean())"
   ]
  },
  {
   "cell_type": "code",
   "execution_count": 16,
   "metadata": {},
   "outputs": [
    {
     "name": "stdout",
     "output_type": "stream",
     "text": [
      "\n",
      "F1- Macro:\n",
      "\n"
     ]
    },
    {
     "data": {
      "text/plain": [
       "0.8328948424013534"
      ]
     },
     "execution_count": 16,
     "metadata": {},
     "output_type": "execute_result"
    }
   ],
   "source": [
    "import numpy as np\n",
    "# f1-macro score\n",
    "scores=cross_val_score(clf, X_train, y_train, cv=5, scoring='f1_macro')\n",
    "print(\"\\nF1- Macro:\\n\")\n",
    "np.mean(scores)"
   ]
  },
  {
   "cell_type": "code",
   "execution_count": 19,
   "metadata": {},
   "outputs": [
    {
     "data": {
      "text/plain": [
       "MultinomialNB()"
      ]
     },
     "execution_count": 19,
     "metadata": {},
     "output_type": "execute_result"
    }
   ],
   "source": [
    "train_data=pd.read_csv('three_class.csv')\n",
    "X_train = train_data[\"context\"]\n",
    "y_train = train_data[\"emotion\"]\n",
    "from sklearn.feature_extraction.text import CountVectorizer\n",
    "cv = CountVectorizer(token_pattern='\\[?\\w+\\]?')\n",
    "X_train=cv.fit_transform(X_train)\n",
    "\n",
    "clf = MultinomialNB()\n",
    "clf.fit(X_train, y_train)"
   ]
  },
  {
   "cell_type": "code",
   "execution_count": 20,
   "metadata": {},
   "outputs": [
    {
     "name": "stdout",
     "output_type": "stream",
     "text": [
      "Percent accuracy within each fold:\n",
      "\n",
      "[0.65588235 0.62739323 0.68188513 0.66273932 0.7275405 ]\n",
      "\n",
      "Mean accuracy:\n",
      "\n",
      "0.6710881053452309\n"
     ]
    }
   ],
   "source": [
    "from sklearn.model_selection import cross_val_score\n",
    "scores = cross_val_score(clf, X_train, y_train, cv = 5, scoring=\"accuracy\")\n",
    "\n",
    "print(\"Percent accuracy within each fold:\\n\")\n",
    "print(scores)\n",
    "print(\"\\nMean accuracy:\\n\")\n",
    "print(scores.mean())"
   ]
  },
  {
   "cell_type": "code",
   "execution_count": 21,
   "metadata": {},
   "outputs": [
    {
     "name": "stdout",
     "output_type": "stream",
     "text": [
      "\n",
      "F1- Macro:\n",
      "\n"
     ]
    },
    {
     "data": {
      "text/plain": [
       "0.6294407777735698"
      ]
     },
     "execution_count": 21,
     "metadata": {},
     "output_type": "execute_result"
    }
   ],
   "source": [
    "import numpy as np\n",
    "# f1-macro score\n",
    "scores=cross_val_score(clf, X_train, y_train, cv=5, scoring='f1_macro')\n",
    "print(\"\\nF1- Macro:\\n\")\n",
    "np.mean(scores)"
   ]
  },
  {
   "cell_type": "code",
   "execution_count": null,
   "metadata": {},
   "outputs": [],
   "source": []
  }
 ],
 "metadata": {
  "kernelspec": {
   "display_name": "Python 3",
   "language": "python",
   "name": "python3"
  },
  "language_info": {
   "codemirror_mode": {
    "name": "ipython",
    "version": 3
   },
   "file_extension": ".py",
   "mimetype": "text/x-python",
   "name": "python",
   "nbconvert_exporter": "python",
   "pygments_lexer": "ipython3",
   "version": "3.8.3"
  }
 },
 "nbformat": 4,
 "nbformat_minor": 4
}
