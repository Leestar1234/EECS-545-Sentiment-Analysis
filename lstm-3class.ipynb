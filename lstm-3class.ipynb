{
 "cells": [
  {
   "cell_type": "markdown",
   "metadata": {
    "cell_id": 40
   },
   "source": [
    "### Load Dataset"
   ]
  },
  {
   "cell_type": "code",
   "execution_count": null,
   "id": "3bd6e538",
   "metadata": {
    "cell_id": 3
   },
   "outputs": [],
   "source": [
    "import pandas as pd\n",
    "\n",
    "df_all = pd.read_csv('data/three_class.csv')\n",
    "df_positive = df_all.copy()\n",
    "df_positive[\"emotion\"] = df_positive[\"emotion\"].map({1:1, 0:0, -1:0})\n",
    "df_neutral = df_all.copy()\n",
    "df_neutral[\"emotion\"] = df_neutral[\"emotion\"].map({1:0, 0:1, -1:0})\n",
    "df_negative = df_all.copy()\n",
    "df_negative[\"emotion\"] = df_negative[\"emotion\"].map({1:0, 0:0, -1:1})"
   ]
  },
  {
   "cell_type": "markdown",
   "metadata": {
    "cell_id": 42
   },
   "source": [
    "### Train Word Vector"
   ]
  },
  {
   "cell_type": "code",
   "execution_count": null,
   "metadata": {
    "cell_id": 44
   },
   "outputs": [],
   "source": [
    "wv_input = df_all['context'].map(lambda s: s.split(\" \"))   # [for w in s.split(\" \") if w not in stopwords]                        "
   ]
  },
  {
   "cell_type": "code",
   "execution_count": null,
   "metadata": {
    "cell_id": 4
   },
   "outputs": [],
   "source": [
    "from gensim import models\n",
    "\n",
    "# Word2Vec\n",
    "word2vec = models.Word2Vec(wv_input, \n",
    "                           vector_size=64,\n",
    "                           min_count=1,\n",
    "                           epochs=1000)"
   ]
  },
  {
   "cell_type": "markdown",
   "metadata": {
    "cell_id": 48
   },
   "source": [
    "### Using Three BiLSTM"
   ]
  },
  {
   "cell_type": "code",
   "execution_count": null,
   "metadata": {
    "cell_id": 14
   },
   "outputs": [],
   "source": [
    "import torch\n",
    "from torch import nn\n",
    "from torch.nn.utils.rnn import pad_sequence, pack_padded_sequence,pad_packed_sequence\n",
    "from torch.utils.data import Dataset, DataLoader\n",
    "import numpy as np\n",
    "\n",
    "#device = \"cuda:0\" if torch.cuda.is_available() else \"cpu\"\n",
    "device = \"cpu\""
   ]
  },
  {
   "cell_type": "code",
   "execution_count": null,
   "metadata": {
    "cell_id": 19
   },
   "outputs": [],
   "source": [
    "# Super Character\n",
    "learning_rate = 5e-4\n",
    "input_size = 300\n",
    "num_epoches = 8\n",
    "batch_size = 10\n",
    "embed_size = 64\n",
    "hidden_size = 64\n",
    "num_layers = 2"
   ]
  },
  {
   "cell_type": "code",
   "execution_count": null,
   "metadata": {
    "cell_id": 7
   },
   "outputs": [],
   "source": [
    "class MyDataset(Dataset):\n",
    "    def __init__(self, df):\n",
    "        self.data = []\n",
    "        self.label = df[\"emotion\"].tolist()\n",
    "        for s in df[\"context\"].tolist():\n",
    "            vectors = []\n",
    "            for w in s.split(\" \"):\n",
    "                if w in word2vec.wv.key_to_index:\n",
    "                    vectors.append(word2vec.wv[w])   # replace word to vec\n",
    "            vectors = torch.Tensor(vectors)\n",
    "            self.data.append(vectors)\n",
    "    \n",
    "    def __getitem__(self, index):\n",
    "        data = self.data[index]\n",
    "        label = self.label[index]\n",
    "        return data, label\n",
    "\n",
    "    def __len__(self):\n",
    "        return len(self.label)\n",
    "\n",
    "\n",
    "def collate_fn(data):\n",
    "    \"\"\"\n",
    "    :param data: data, label\n",
    "    :return: vec-data、data length、label\n",
    "    \"\"\"\n",
    "    data.sort(key=lambda x: len(x[0]), reverse=True) # reverse sort\n",
    "    data_length = [len(sq[0]) for sq in data]\n",
    "    x = [i[0] for i in data]\n",
    "    y = [i[1] for i in data]\n",
    "    data = pad_sequence(x, batch_first=True, padding_value=0)   # pad sequence\n",
    "    return data, torch.tensor(y, dtype=torch.float32), data_length"
   ]
  },
  {
   "cell_type": "code",
   "execution_count": null,
   "metadata": {
    "cell_id": 11
   },
   "outputs": [],
   "source": [
    "# Network Structure\n",
    "class LSTM(nn.Module):\n",
    "    def __init__(self, input_size, hidden_size, num_layers):\n",
    "        super(LSTM, self).__init__()\n",
    "        self.hidden_size = hidden_size\n",
    "        self.num_layers = num_layers\n",
    "        self.lstm = nn.LSTM(input_size, hidden_size, num_layers, batch_first=True, bidirectional=True)\n",
    "        self.fc = nn.Linear(hidden_size * 2, 1) \n",
    "        self.sigmoid = nn.Sigmoid()\n",
    "\n",
    "    def forward(self, x, lengths):\n",
    "        h0 = torch.zeros(self.num_layers * 2, x.size(0), self.hidden_size).to(device)\n",
    "        c0 = torch.zeros(self.num_layers * 2, x.size(0), self.hidden_size).to(device)\n",
    "        \n",
    "        packed_input = torch.nn.utils.rnn.pack_padded_sequence(input=x, lengths=lengths, batch_first=True)\n",
    "        packed_out, (h_n, h_c) = self.lstm(packed_input, (h0, c0))\n",
    "\n",
    "        lstm_out = torch.cat([h_n[-2], h_n[-1]], 1)\n",
    "        out = self.fc(lstm_out)\n",
    "        out = self.sigmoid(out)\n",
    "        return out"
   ]
  },
  {
   "cell_type": "code",
   "execution_count": null,
   "metadata": {
    "cell_id": 26
   },
   "outputs": [],
   "source": [
    "from sklearn import metrics\n",
    "\n",
    "# Test\n",
    "def test():\n",
    "    y_pos, y_neu, y_neg, y_true = [], [], [], []\n",
    "\n",
    "    with torch.no_grad():\n",
    "        for x, labels, lengths in test_loader:\n",
    "            x = x.to(device)\n",
    "            outputs_pos = lstm_positive(x, lengths) \n",
    "            outputs_pos = outputs_pos.view(-1)\n",
    "            outputs_neu = lstm_neutral(x, lengths) \n",
    "            outputs_neu = outputs_neu.view(-1)\n",
    "            outputs_neg = lstm_negative(x, lengths) \n",
    "            outputs_neg = outputs_neg.view(-1)\n",
    "            y_pos.append(outputs_pos)\n",
    "            y_neu.append(outputs_neu)\n",
    "            y_neg.append(outputs_neg)\n",
    "            y_true.append(labels)\n",
    "    \n",
    "    y_pos = torch.cat(y_pos)\n",
    "    y_neu = torch.cat(y_neu)\n",
    "    y_neg = torch.cat(y_neg)\n",
    "    y_pred = torch.cat((y_pos.reshape(-1, 1), y_neu.reshape(-1, 1), y_neg.reshape(-1, 1)), 1)\n",
    "    y_true = torch.cat(y_true)\n",
    "    y_prob = torch.argmax(y_pred, dim=1)\n",
    "    y_pred = []\n",
    "    for i in y_prob:\n",
    "        if i == 0:\n",
    "            y_pred.append(1)\n",
    "        elif i == 1:\n",
    "            y_pred.append(0)\n",
    "        else:\n",
    "            y_pred.append(-1)\n",
    "    \n",
    "    print(\"Accuracy score:\", metrics.accuracy_score(y_true, y_pred))\n",
    "    print(\"f-1 score:\", metrics.f1_score(y_true, y_pred, average='macro'))"
   ]
  },
  {
   "cell_type": "code",
   "execution_count": null,
   "metadata": {
    "cell_id": 33,
    "scrolled": true
   },
   "outputs": [],
   "source": [
    "# Training\n",
    "n = df_all.shape[0]\n",
    "for k in range(5):\n",
    "    df_test = df_all[round(n/5*k):round(n/5*(k+1))]\n",
    "    df_train_positive = pd.concat([df_positive[0:round(n/5*k)], df_positive[round(n/5*(k+1)):n+1]])\n",
    "    df_train_neutral = pd.concat([df_neutral[0:round(n/5*k)], df_neutral[round(n/5*(k+1)):n+1]])\n",
    "    df_train_negative = pd.concat([df_negative[0:round(n/5*k)], df_negative[round(n/5*(k+1)):n+1]])\n",
    "\n",
    "    # training data\n",
    "    train_data_positive = MyDataset(df_train_positive)\n",
    "    train_loader_positive = DataLoader(train_data_positive, batch_size=batch_size, collate_fn=collate_fn, shuffle=True)\n",
    "    train_data_neutral = MyDataset(df_train_neutral)\n",
    "    train_loader_neutral = DataLoader(train_data_neutral, batch_size=batch_size, collate_fn=collate_fn, shuffle=True)\n",
    "    train_data_negative = MyDataset(df_train_negative)\n",
    "    train_loader_negative = DataLoader(train_data_negative, batch_size=batch_size, collate_fn=collate_fn, shuffle=True)\n",
    "\n",
    "    # test data\n",
    "    test_data = MyDataset(df_test)\n",
    "    test_loader = DataLoader(test_data, batch_size=batch_size, collate_fn=collate_fn, shuffle=True)\n",
    "\n",
    "    lstm_positive = LSTM(embed_size, hidden_size, num_layers)\n",
    "    lstm_neutral = LSTM(embed_size, hidden_size, num_layers)\n",
    "    lstm_negative = LSTM(embed_size, hidden_size, num_layers)\n",
    "\n",
    "    # Loss and Optimizer\n",
    "    criterion = nn.BCELoss()\n",
    "    optimizer_positive = torch.optim.Adam(lstm_positive.parameters(), lr=learning_rate)\n",
    "    optimizer_neutral = torch.optim.Adam(lstm_neutral.parameters(), lr=learning_rate)\n",
    "    optimizer_negative = torch.optim.Adam(lstm_negative.parameters(), lr=learning_rate)\n",
    "\n",
    "    for epoch in range(num_epoches):\n",
    "        total_loss = 0\n",
    "        for i, (x, labels, lengths) in enumerate(train_loader_positive):\n",
    "            x = x.to(device)\n",
    "            labels = labels.to(device)\n",
    "            outputs = lstm_positive(x, lengths) \n",
    "            logits = outputs.view(-1)  \n",
    "            loss = criterion(logits, labels)   \n",
    "            total_loss += loss\n",
    "            optimizer_positive.zero_grad()              \n",
    "            loss.backward(retain_graph=True)    \n",
    "            optimizer_positive.step()                    \n",
    "            if (i+1) % 10 == 0:\n",
    "                total_loss = 0\n",
    "    \n",
    "        total_loss = 0\n",
    "        for i, (x, labels, lengths) in enumerate(train_loader_neutral):\n",
    "            x = x.to(device)\n",
    "            labels = labels.to(device)\n",
    "            outputs = lstm_neutral(x, lengths) \n",
    "            logits = outputs.view(-1)  \n",
    "            loss = criterion(logits, labels)   \n",
    "            total_loss += loss\n",
    "            optimizer_neutral.zero_grad()              \n",
    "            loss.backward(retain_graph=True)    \n",
    "            optimizer_neutral.step()                    \n",
    "            if (i+1) % 10 == 0:\n",
    "                total_loss = 0\n",
    "    \n",
    "        total_loss = 0\n",
    "        for i, (x, labels, lengths) in enumerate(train_loader_negative):\n",
    "            x = x.to(device)\n",
    "            labels = labels.to(device)\n",
    "            outputs = lstm_negative(x, lengths) \n",
    "            logits = outputs.view(-1)  \n",
    "            loss = criterion(logits, labels)   \n",
    "            total_loss += loss\n",
    "            optimizer_negative.zero_grad()              \n",
    "            loss.backward(retain_graph=True)    \n",
    "            optimizer_negative.step()                    \n",
    "            if (i+1) % 10 == 0:\n",
    "                total_loss = 0\n",
    "    \n",
    "        test()"
   ]
  }
 ],
 "metadata": {
  "kernelspec": {
   "display_name": "Python 3",
   "language": "python",
   "name": "python3"
  },
  "language_info": {
   "codemirror_mode": {
    "name": "ipython",
    "version": 3
   },
   "file_extension": ".py",
   "mimetype": "text/x-python",
   "name": "python",
   "nbconvert_exporter": "python",
   "pygments_lexer": "ipython3",
   "version": "3.9.2"
  },
  "max_cell_id": 55
 },
 "nbformat": 4,
 "nbformat_minor": 5
}
