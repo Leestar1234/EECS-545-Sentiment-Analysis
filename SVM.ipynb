{
 "cells": [
  {
   "cell_type": "code",
   "execution_count": 1,
   "metadata": {},
   "outputs": [],
   "source": [
    "import pandas as pd"
   ]
  },
  {
   "cell_type": "code",
   "execution_count": 2,
   "metadata": {},
   "outputs": [],
   "source": [
    "train_data=pd.read_csv('two_class.csv')"
   ]
  },
  {
   "cell_type": "code",
   "execution_count": 3,
   "metadata": {},
   "outputs": [],
   "source": [
    "X_train = train_data[\"context\"]\n",
    "y_train = train_data[\"emotion\"]"
   ]
  },
  {
   "cell_type": "code",
   "execution_count": 4,
   "metadata": {},
   "outputs": [],
   "source": [
    "from sklearn.feature_extraction.text import TfidfVectorizer\n",
    "cv = TfidfVectorizer(token_pattern='\\[?\\w+\\]?')#Create the word bag data structure\n",
    "X_train=cv.fit_transform(X_train)"
   ]
  },
  {
   "cell_type": "code",
   "execution_count": 5,
   "metadata": {},
   "outputs": [
    {
     "data": {
      "text/plain": [
       "SVC()"
      ]
     },
     "execution_count": 5,
     "metadata": {},
     "output_type": "execute_result"
    }
   ],
   "source": [
    "from sklearn import svm\n",
    "\n",
    "clf = svm.SVC()\n",
    "clf.fit(X_train, y_train)"
   ]
  },
  {
   "cell_type": "code",
   "execution_count": 6,
   "metadata": {},
   "outputs": [
    {
     "name": "stdout",
     "output_type": "stream",
     "text": [
      "Percent accuracy within each fold:\n",
      "\n",
      "[0.84086022 0.80645161 0.84516129 0.81505376 0.84482759]\n",
      "\n",
      "Mean accuracy:\n",
      "\n",
      "0.8304708935854652\n"
     ]
    }
   ],
   "source": [
    "from sklearn.model_selection import cross_val_score\n",
    "scores = cross_val_score(clf, X_train, y_train, cv = 5, scoring=\"accuracy\")\n",
    "\n",
    "print(\"Percent accuracy within each fold:\\n\")\n",
    "print(scores)\n",
    "print(\"\\nMean accuracy:\\n\")\n",
    "print(scores.mean())"
   ]
  },
  {
   "cell_type": "code",
   "execution_count": 7,
   "metadata": {},
   "outputs": [
    {
     "name": "stdout",
     "output_type": "stream",
     "text": [
      "\n",
      "F1- Macro:\n",
      "\n"
     ]
    },
    {
     "data": {
      "text/plain": [
       "0.7248074232830215"
      ]
     },
     "execution_count": 7,
     "metadata": {},
     "output_type": "execute_result"
    }
   ],
   "source": [
    "import numpy as np\n",
    "# f1-macro score\n",
    "scores=cross_val_score(clf, X_train, y_train, cv=5, scoring='f1_macro')\n",
    "print(\"\\nF1- Macro:\\n\")\n",
    "np.mean(scores)"
   ]
  },
  {
   "cell_type": "code",
   "execution_count": 8,
   "metadata": {},
   "outputs": [
    {
     "data": {
      "text/plain": [
       "SVC()"
      ]
     },
     "execution_count": 8,
     "metadata": {},
     "output_type": "execute_result"
    }
   ],
   "source": [
    "train_data=pd.read_csv('three_class.csv')\n",
    "X_train = train_data[\"context\"]\n",
    "y_train = train_data[\"emotion\"]\n",
    "from sklearn.feature_extraction.text import TfidfVectorizer\n",
    "cv = TfidfVectorizer(token_pattern='\\[?\\w+\\]?')#Create the word bag data structure\n",
    "X_train=cv.fit_transform(X_train)\n",
    "\n",
    "clf = svm.SVC()\n",
    "clf.fit(X_train, y_train)"
   ]
  },
  {
   "cell_type": "code",
   "execution_count": 9,
   "metadata": {},
   "outputs": [
    {
     "name": "stdout",
     "output_type": "stream",
     "text": [
      "Percent accuracy within each fold:\n",
      "\n",
      "[0.65735294 0.61561119 0.68335788 0.66863034 0.6921944 ]\n",
      "\n",
      "Mean accuracy:\n",
      "\n",
      "0.663429351121892\n"
     ]
    }
   ],
   "source": [
    "from sklearn.model_selection import cross_val_score\n",
    "scores = cross_val_score(clf, X_train, y_train, cv = 5, scoring=\"accuracy\")\n",
    "\n",
    "print(\"Percent accuracy within each fold:\\n\")\n",
    "print(scores)\n",
    "print(\"\\nMean accuracy:\\n\")\n",
    "print(scores.mean())"
   ]
  },
  {
   "cell_type": "code",
   "execution_count": 10,
   "metadata": {},
   "outputs": [
    {
     "name": "stdout",
     "output_type": "stream",
     "text": [
      "\n",
      "F1- Macro:\n",
      "\n"
     ]
    },
    {
     "data": {
      "text/plain": [
       "0.5810917903970789"
      ]
     },
     "execution_count": 10,
     "metadata": {},
     "output_type": "execute_result"
    }
   ],
   "source": [
    "import numpy as np\n",
    "# f1-macro score\n",
    "scores=cross_val_score(clf, X_train, y_train, cv=5, scoring='f1_macro')\n",
    "print(\"\\nF1- Macro:\\n\")\n",
    "np.mean(scores)"
   ]
  },
  {
   "cell_type": "code",
   "execution_count": null,
   "metadata": {},
   "outputs": [],
   "source": []
  }
 ],
 "metadata": {
  "kernelspec": {
   "display_name": "Python 3",
   "language": "python",
   "name": "python3"
  },
  "language_info": {
   "codemirror_mode": {
    "name": "ipython",
    "version": 3
   },
   "file_extension": ".py",
   "mimetype": "text/x-python",
   "name": "python",
   "nbconvert_exporter": "python",
   "pygments_lexer": "ipython3",
   "version": "3.8.3"
  }
 },
 "nbformat": 4,
 "nbformat_minor": 4
}
